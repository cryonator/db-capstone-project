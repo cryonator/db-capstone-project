{
 "cells": [
  {
   "cell_type": "code",
   "execution_count": 3,
   "id": "094d995a",
   "metadata": {},
   "outputs": [],
   "source": [
    "# Import MySQL Connector/Python \n",
    "import mysql.connector as connector"
   ]
  },
  {
   "cell_type": "code",
   "execution_count": 9,
   "id": "5a890e55",
   "metadata": {},
   "outputs": [
    {
     "name": "stdout",
     "output_type": "stream",
     "text": [
      "Connected to MySQL server\n"
     ]
    }
   ],
   "source": [
    "try:\n",
    "    # Establish a connection to the MySQL server\n",
    "    connection = connector.connect(\n",
    "        port=int(3006),\n",
    "        host=\"localhost\",\n",
    "        user=\"root\",\n",
    "        password=\"Don153c22139799\",\n",
    "        database=\"littlelemondb\"\n",
    "    )\n",
    "\n",
    "    if connection.is_connected():\n",
    "        print('Connected to MySQL server')\n",
    "\n",
    "except connector.Error as e:\n",
    "    print(f'Error connecting to MySQL server: {e}')"
   ]
  },
  {
   "cell_type": "code",
   "execution_count": 10,
   "id": "99ed04b3",
   "metadata": {},
   "outputs": [
    {
     "name": "stdout",
     "output_type": "stream",
     "text": [
      "Tables in the 'littlelemondb' database:\n",
      "bookings\n",
      "customer\n",
      "menu\n",
      "order_delivery\n",
      "orders\n",
      "ordersview\n",
      "staff\n"
     ]
    }
   ],
   "source": [
    "# Create a cursor to execute SQL queries\n",
    "cursor = connection.cursor()\n",
    "\n",
    "# Execute the query to get all tables in the current database\n",
    "cursor.execute(\"SHOW TABLES\")\n",
    "\n",
    "# Fetch the results and print them\n",
    "tables = cursor.fetchall()\n",
    "if tables:\n",
    "    print(\"Tables in the 'littlelemondb' database:\")\n",
    "    for table in tables:\n",
    "        print(table[0])\n",
    "else:\n",
    "    print(\"No tables found.\")"
   ]
  },
  {
   "cell_type": "code",
   "execution_count": null,
   "id": "6196c428",
   "metadata": {},
   "outputs": [],
   "source": [
    "# SQL query with JOIN to retrieve customers with orders over $60\n",
    "\n",
    "query = \"\"\"\n",
    "    SELECT c.full_name, c.contact_details\n",
    "    FROM Customers c\n",
    "    INNER JOIN Orders o ON c.customer_id = o.customer_id\n",
    "    WHERE o.total_cost > 60\n",
    "    \"\"\"\n",
    "\n",
    "# Execute the query\n",
    "cursor.execute(query)\n",
    "\n",
    "# Fetch the results and display them\n",
    "customers = cursor.fetchall()\n",
    "if customers:\n",
    "    print(\"Customers with orders over $60:\")\n",
    "    for customer in customers:\n",
    "        full_name, contact_details = customer\n",
    "        print(f\"Full Name: {full_name}, Contact: {contact_details}\")\n",
    "else:\n",
    "    print(\"No customers found with orders over $60.\")"
   ]
  }
 ],
 "metadata": {
  "kernelspec": {
   "display_name": "Python 3 (ipykernel)",
   "language": "python",
   "name": "python3"
  },
  "language_info": {
   "codemirror_mode": {
    "name": "ipython",
    "version": 3
   },
   "file_extension": ".py",
   "mimetype": "text/x-python",
   "name": "python",
   "nbconvert_exporter": "python",
   "pygments_lexer": "ipython3",
   "version": "3.10.9"
  }
 },
 "nbformat": 4,
 "nbformat_minor": 5
}
